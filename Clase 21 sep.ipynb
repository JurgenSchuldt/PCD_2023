{
 "cells": [
  {
   "cell_type": "markdown",
   "id": "c33e30f7-d4fb-4c84-803c-4d06e4b8138f",
   "metadata": {},
   "source": [
    "## Clase 21 Sep PCD"
   ]
  },
  {
   "cell_type": "code",
   "execution_count": 4,
   "id": "0e6e4514-17a5-4088-a034-26168c80dfc6",
   "metadata": {},
   "outputs": [
    {
     "name": "stdout",
     "output_type": "stream",
     "text": [
      "Defaulting to user installation because normal site-packages is not writeable\n",
      "Requirement already satisfied: python3-nmap in c:\\users\\jurge\\appdata\\roaming\\python\\python311\\site-packages (1.6.0)\n",
      "Requirement already satisfied: simplejson in c:\\users\\jurge\\appdata\\roaming\\python\\python311\\site-packages (from python3-nmap) (3.19.1)\n"
     ]
    }
   ],
   "source": [
    "!pip install python3-nmap"
   ]
  },
  {
   "cell_type": "code",
   "execution_count": 3,
   "id": "01de4567-bc71-4843-8fcd-3cc5a181260b",
   "metadata": {},
   "outputs": [],
   "source": [
    "import nmap3 as nmap"
   ]
  }
 ],
 "metadata": {
  "kernelspec": {
   "display_name": "Python 3 (ipykernel)",
   "language": "python",
   "name": "python3"
  },
  "language_info": {
   "codemirror_mode": {
    "name": "ipython",
    "version": 3
   },
   "file_extension": ".py",
   "mimetype": "text/x-python",
   "name": "python",
   "nbconvert_exporter": "python",
   "pygments_lexer": "ipython3",
   "version": "3.11.5"
  }
 },
 "nbformat": 4,
 "nbformat_minor": 5
}
