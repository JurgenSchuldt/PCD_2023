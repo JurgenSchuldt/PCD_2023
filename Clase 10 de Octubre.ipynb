{
 "cells": [
  {
   "cell_type": "code",
   "execution_count": 40,
   "id": "59b8f450-9241-4a75-aa75-ad21398cf302",
   "metadata": {},
   "outputs": [],
   "source": [
    "import os, threading as th, time, urllib.request as rq, concurrent as ct, IPython as IP"
   ]
  },
  {
   "cell_type": "code",
   "execution_count": 41,
   "id": "c33327c1-3708-40f2-b3d8-cffe01bd6327",
   "metadata": {},
   "outputs": [
    {
     "name": "stdin",
     "output_type": "stream",
     "text": [
      "Ingrese el numero de la imagen inicial 31\n"
     ]
    }
   ],
   "source": [
    "img = int(input(\"Ingrese el numero de la imagen inicial\"))"
   ]
  },
  {
   "cell_type": "code",
   "execution_count": null,
   "id": "aae2865b-4679-4e3f-b8d6-ff77ea9bcdc8",
   "metadata": {},
   "outputs": [],
   "source": [
    "current_url = https://storage.cloud.google.com/pcd-images-threads/IMG_3727.jpeg"
   ]
  },
  {
   "cell_type": "code",
   "execution_count": null,
   "id": "176a3e70-8d19-4cc8-aa0b-fd50d26155ac",
   "metadata": {},
   "outputs": [],
   "source": [
    "img"
   ]
  },
  {
   "cell_type": "code",
   "execution_count": null,
   "id": "b8d08790-aca7-4774-b6e9-5bd9031167e0",
   "metadata": {},
   "outputs": [],
   "source": [
    "pwd"
   ]
  },
  {
   "cell_type": "code",
   "execution_count": null,
   "id": "36282874-cc12-4f9b-9542-c644d0c13e2c",
   "metadata": {},
   "outputs": [],
   "source": [
    "import concurrent"
   ]
  },
  {
   "cell_type": "code",
   "execution_count": null,
   "id": "4c61f85d-b09c-40af-ad71-d01c527e6a1d",
   "metadata": {},
   "outputs": [],
   "source": [
    "img_url = 'https://storage.cloud.google.com/pcd-images-threads/IMG_3727.jpeg/pic{:03d}.jpeg'.format(img)"
   ]
  },
  {
   "cell_type": "code",
   "execution_count": null,
   "id": "ee890baf-979f-47c3-ad2b-5463ec1c36a7",
   "metadata": {},
   "outputs": [],
   "source": [
    "img_url"
   ]
  },
  {
   "cell_type": "code",
   "execution_count": null,
   "id": "98693621-cda0-430b-9ffb-5274d48fc1c0",
   "metadata": {},
   "outputs": [],
   "source": [
    "a_url_=[]"
   ]
  },
  {
   "cell_type": "code",
   "execution_count": null,
   "id": "051fa324-018c-4c00-984f-ba90fe3eb496",
   "metadata": {},
   "outputs": [],
   "source": [
    "for i in range(10):\n",
    "    img_uri_= 'https://storage.cloud.google.com/pcd-images-threads/IMG_3727.jpeg/pic00'+str(i)+'.jpeg'\n",
    "    print(img_uri_)\n",
    "    a_url_.append(img_uri_)"
   ]
  },
  {
   "cell_type": "markdown",
   "id": "b26d86b9-24a8-4a21-b065-833acc8c3e6d",
   "metadata": {},
   "source": [
    "#### Me da las Urls en array"
   ]
  },
  {
   "cell_type": "code",
   "execution_count": null,
   "id": "f64718f9-e14d-4172-8e99-243e1ba8fae9",
   "metadata": {},
   "outputs": [],
   "source": [
    "a_url_"
   ]
  },
  {
   "cell_type": "code",
   "execution_count": null,
   "id": "eab04f8d-a741-47a7-83c7-71b377ca43c9",
   "metadata": {},
   "outputs": [],
   "source": [
    "\"sequential implementation of multiple image downloader returns total bytes from downloading all images in image_numbers list\""
   ]
  },
  {
   "cell_type": "code",
   "execution_count": null,
   "id": "88b34547-32da-4993-bfdc-14c6bcdf7984",
   "metadata": {},
   "outputs": [],
   "source": [
    "def seq_download_images(image_numbers):\n",
    "    total_bytes = 0\n",
    "    for num in image_numbers:\n",
    "     total_bytes+=_download_image(num)\n",
    "    return total_bytes"
   ]
  },
  {
   "cell_type": "code",
   "execution_count": null,
   "id": "e70649f9-e527-459b-95e6-07a07545225c",
   "metadata": {},
   "outputs": [],
   "source": []
  }
 ],
 "metadata": {
  "kernelspec": {
   "display_name": "Python 3 (ipykernel)",
   "language": "python",
   "name": "python3"
  },
  "language_info": {
   "codemirror_mode": {
    "name": "ipython",
    "version": 3
   },
   "file_extension": ".py",
   "mimetype": "text/x-python",
   "name": "python",
   "nbconvert_exporter": "python",
   "pygments_lexer": "ipython3",
   "version": "3.11.5"
  }
 },
 "nbformat": 4,
 "nbformat_minor": 5
}
