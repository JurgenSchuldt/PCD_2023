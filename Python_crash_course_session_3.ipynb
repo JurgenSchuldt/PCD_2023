{
 "cells": [
  {
   "cell_type": "markdown",
   "id": "e99b3835-6f04-48ac-bac2-1ec40d8b8d09",
   "metadata": {},
   "source": [
    "<!-- PROFILE LINK -->\n",
    "<h1 style = \"text-align:center; font-size: 30px\">PROGRAMACIÓN CONCURRENTE Y DISTRIBUIDA</h1>\n",
    "<a href =\"https://github.com/sukuzhanay\">\n",
    "<img src=\"https://avatars.githubusercontent.com/u/17354471?v=4\" style=\"float:left;vertical-align:centre\" width=\"110\" height=\"110\" title = \"Christian Vlaldimir Sucuzhanay Arevalo 21535220\">\n",
    "<a href =\"https://github.com/sukuzhanay?tab=repositories\">\n",
    "<img src=\"https://media-exp1.licdn.com/dms/image/C4D0BAQEu_Aa76fcmPw/company-logo_200_200/0/1630998679429?e=2159024400&v=beta&t=2feC9GG7RWCWizTqsK5HzDWB1TL2DOQuAVwnMf6FFvk\" title = \"M41\" alt=\"UE\" width=\"110\" height=\"110\" style=\"float:right;vertical-align:centre\">"
   ]
  },
  {
   "cell_type": "markdown",
   "id": "b5aae5fa",
   "metadata": {},
   "source": [
    "# Introducción a NumPy\n",
    "## *Session 3*"
   ]
  },
  {
   "cell_type": "markdown",
   "id": "3aa5a3e9",
   "metadata": {},
   "source": [
    "NumPy (Numerical Python) es el paquete indispensable para llevar a cabo tareas de alto rendimiento y de análisis de datos. Como\n",
    "ejemplo, NumPy es la base para el funcionamiento de la otra\n",
    "librería que veremos, Pandas. Pandas se sitúa en un nivel por\n",
    "encima de NumPy, aprovechándose de todas las características de\n",
    "esta librería.\n",
    "\n",
    " Esta librería está **especializada en el cálculo numérico y el análisis de datos, especialmente para un gran volumen de datos**.\n",
    "\n",
    "Al estar en un nivel superior de abstracción, Pandas ofrece unas\n",
    "funciones más cercanas al usuario para facilitar el análisis de datos.\n",
    "Igualmente, también ofrece operaciones de bajo nivel como Numpy\n",
    "\n",
    "\n",
    "Incorpora una nueva clase de objetos llamados **arrays** que permite representar colecciones de datos de un mismo tipo en varias dimensiones, y funciones muy eficientes para su manipulación."
   ]
  },
  {
   "cell_type": "code",
   "execution_count": null,
   "id": "14b36430",
   "metadata": {},
   "outputs": [],
   "source": [
    "! pip3 install numpy "
   ]
  },
  {
   "cell_type": "code",
   "execution_count": 3,
   "id": "18c08da5",
   "metadata": {},
   "outputs": [],
   "source": [
    "import numpy as np"
   ]
  },
  {
   "cell_type": "code",
   "execution_count": null,
   "id": "58c3bff3-7ed2-45f4-836e-d08d74032806",
   "metadata": {},
   "outputs": [],
   "source": [
    "# Creo una matriz vacia de 6x20\n",
    "array_6x20 = np.empty((6, 20))\n",
    "\n",
    "# Llena la matriz con datos\n",
    "contador = 0\n",
    "for i in range(6):\n",
    "    for j in range(20):\n",
    "        array_6x20[i, j] = contador\n",
    "        contador += 1\n",
    "\n",
    "print(\"Matriz de 6x20:\")\n",
    "print(array_6x20)\n",
    "\n",
    "array_40x6 = np.empty((40, 6))\n",
    "\n",
    "contador = 0\n",
    "for i in range(40):\n",
    "    for j in range(6):\n",
    "        array_40x6[i, j] = contador\n",
    "        contador += 1\n",
    "\n",
    "print(\"\\nMatriz de 40x6:\")\n",
    "print(array_40x6)\n"
   ]
  },
  {
   "cell_type": "code",
   "execution_count": null,
   "id": "9e4e4e72-8ea1-404b-8ae1-155e8df80b82",
   "metadata": {},
   "outputs": [],
   "source": [
    "import multiprocessing as mp"
   ]
  },
  {
   "cell_type": "code",
   "execution_count": null,
   "id": "5cddf255-6cb6-44a5-822a-c74502eb6122",
   "metadata": {},
   "outputs": [],
   "source": [
    "mp.RawArray "
   ]
  },
  {
   "cell_type": "markdown",
   "id": "dda204d3",
   "metadata": {},
   "source": [
    "Una de las características más importantes de NumPy es su array\n",
    "multidimensional, ndarray, que sirve para almacenar conjuntos de\n",
    "datos. Este tipo de objeto permite realizar operaciones\n",
    "matemáticas en bloques de datos completos de una manera muy\n",
    "natural.\n",
    "\n",
    "- Creación de un array: \n",
    "\n",
    "**np.array()** : Crea un array y devuelve una referencia a él. El número de dimensiones del array dependerá de las listas o tuplas anidadas en lista:\n",
    "\n",
    "- Para una lista de valores se crea un array de *una dimensión*, también conocido como **vector**.\n",
    "\n",
    "- Para una lista de listas de valores se crea un array de *dos dimensiones*, también conocido como **matriz**.\n",
    "\n",
    "- Para una lista de listas de listas de valores se crea un array de *tres dimensiones*, también conocido como **cubo**.\n",
    "\n",
    "- Y así sucesivamente. No hay límite en el número de dimensiones del array más allá de la memoria disponible en el sistema.\n",
    "\n",
    "**Importante:** Los datos que contiene un objeto de tipo ndarray son homogéneos,\n",
    "es decir, todos los elementos deben ser del mismo tipo.\n",
    "\n",
    "Un array puede ser un número, se considera entonces como un array de 0 dimensiones."
   ]
  },
  {
   "cell_type": "code",
   "execution_count": null,
   "id": "ab685f52",
   "metadata": {},
   "outputs": [],
   "source": [
    "array_0 = np.array(80)\n",
    "print(array_0)"
   ]
  },
  {
   "cell_type": "code",
   "execution_count": null,
   "id": "48f3bafc",
   "metadata": {},
   "outputs": [],
   "source": [
    "# Array de una dimensión\n",
    "array_1 = np.array([1, 2, 3, 5, 7, 11])\n",
    "array_1"
   ]
  },
  {
   "cell_type": "code",
   "execution_count": null,
   "id": "5538fa96",
   "metadata": {},
   "outputs": [],
   "source": [
    "# Array de dos dimensiones\n",
    "array_2 = np.array([[1, 2, 3, 5, 7, 11],[1, 4, 9, 25, 49, 121]])\n",
    "print(array_2)"
   ]
  },
  {
   "cell_type": "code",
   "execution_count": null,
   "id": "19202676",
   "metadata": {},
   "outputs": [],
   "source": [
    "# Array de tres dimensiones\n",
    "array_3 = np.array([[[1, 2, 3, 5, 7, 11],[1, 4, 9, 25, 49, 121]],[[1, 2, 3, 5, 7, 11],[1, 4, 9, 25, 49, 121]]])\n",
    "print(array_3)"
   ]
  },
  {
   "cell_type": "markdown",
   "id": "1667f397",
   "metadata": {},
   "source": [
    "#### Tipos de datos para ndarray\n",
    "\n",
    "Los tipos de datos son una de las partes que hace a NumPy tan\n",
    "flexible. En la mayoría de los casos, estos tipos de datos tienen un\n",
    "mapeo directo con su representación en memoria, facilitando a la\n",
    "máquina la lectura y escritura de los mismos."
   ]
  },
  {
   "cell_type": "code",
   "execution_count": null,
   "id": "8686af51",
   "metadata": {},
   "outputs": [],
   "source": [
    "arr1 = np.array([1, 2, 3], dtype=np.float64)\n",
    "arr1"
   ]
  },
  {
   "cell_type": "code",
   "execution_count": null,
   "id": "fb3e0453",
   "metadata": {},
   "outputs": [],
   "source": [
    "arr2 = np.array([1, 2, 300, 500], dtype=np.int8)\n",
    "arr2"
   ]
  },
  {
   "cell_type": "code",
   "execution_count": null,
   "id": "c8e2e684",
   "metadata": {},
   "outputs": [],
   "source": [
    "tipos = [int, np.int8, np.int16, np.int32, np.int64]\n",
    "for k in tipos:\n",
    "    print(np.iinfo(k))"
   ]
  },
  {
   "cell_type": "code",
   "execution_count": null,
   "id": "cf5cad1e",
   "metadata": {},
   "outputs": [],
   "source": [
    "tipos_float = [float, np.float16, np.float32, np.float64, np.float128]\n",
    "for s in tipos_float:\n",
    "    print(np.finfo(s))"
   ]
  },
  {
   "cell_type": "code",
   "execution_count": null,
   "id": "aa95806f",
   "metadata": {},
   "outputs": [],
   "source": [
    "tipos_complex = [complex, np.complex64, np.complex128, np.complex256]\n",
    "for s in tipos_complex:\n",
    "    print(np.finfo(s))"
   ]
  },
  {
   "cell_type": "markdown",
   "id": "2f6ca087",
   "metadata": {},
   "source": [
    "### Atributos de un array\n",
    "\n",
    "Existen varios atributos y funciones que describen las características de un array.\n",
    "\n",
    "**a.ndim** : Devuelve el número de dimensiones del array a.\n",
    "\n",
    "**a.shape**: Devuelve una tupla con las dimensiones del array a.\n",
    "\n",
    "**a.size** : Devuelve el número de elementos del array a.\n",
    "\n",
    "**a.dtype**: Devuelve el tipo de datos de los elementos del array a."
   ]
  },
  {
   "cell_type": "code",
   "execution_count": null,
   "id": "f7ab500b",
   "metadata": {},
   "outputs": [],
   "source": [
    "print(array_0.ndim)\n",
    "print(array_1.ndim)\n",
    "print(array_2.ndim)\n",
    "print(array_3.ndim)"
   ]
  },
  {
   "cell_type": "code",
   "execution_count": null,
   "id": "02ca13ae",
   "metadata": {},
   "outputs": [],
   "source": [
    "print(array_0.shape)\n",
    "print(array_1.shape)\n",
    "print(array_2.shape)\n",
    "print(array_3.shape)"
   ]
  },
  {
   "cell_type": "code",
   "execution_count": null,
   "id": "d60348ed",
   "metadata": {},
   "outputs": [],
   "source": [
    "print(array_0.size)\n",
    "print(array_1.size)\n",
    "print(array_2.size)\n",
    "print(array_3.size)"
   ]
  },
  {
   "cell_type": "code",
   "execution_count": null,
   "id": "37b20f3b",
   "metadata": {},
   "outputs": [],
   "source": [
    "print(array_0.dtype)\n",
    "print(array_1.dtype)\n",
    "print(array_2.dtype)\n",
    "print(array_3.dtype)"
   ]
  },
  {
   "cell_type": "markdown",
   "id": "a8a0f927",
   "metadata": {},
   "source": [
    "- Reshape: Da una nueva forma a un array sin cambiar sus datos\n",
    "\n",
    "\n",
    "Como apunte importante, cuando usamos el método reshape el\n",
    "número total de elementos en el array tras aplicar la\n",
    "transformación debe ser el mismo. De esta forma, se nos permite\n",
    "transformar un array con 4 filas y 5 columnas en uno con 10 filas y\n",
    "2 columnas pero no en uno con 5 filas y 5 columnas.\n",
    "\n",
    "\n",
    "https://numpy.org/doc/stable/reference/generated/numpy.reshape.html"
   ]
  },
  {
   "cell_type": "code",
   "execution_count": null,
   "id": "60613cca",
   "metadata": {},
   "outputs": [],
   "source": [
    "array_3"
   ]
  },
  {
   "cell_type": "code",
   "execution_count": null,
   "id": "2b5b2817",
   "metadata": {},
   "outputs": [],
   "source": [
    "array_3.shape"
   ]
  },
  {
   "cell_type": "code",
   "execution_count": null,
   "id": "893319d1",
   "metadata": {},
   "outputs": [],
   "source": [
    "array_3.reshape(6,4)"
   ]
  },
  {
   "cell_type": "code",
   "execution_count": null,
   "id": "9ef4b832",
   "metadata": {},
   "outputs": [],
   "source": [
    "array_3.reshape(24,1)"
   ]
  },
  {
   "cell_type": "markdown",
   "id": "72dfd630",
   "metadata": {},
   "source": [
    "**np.empty(dimensiones)**: Crea y devuelve una referencia a un array vacío con las dimensiones especificadas en la tupla dimensiones.\n",
    "\n",
    "**np.zeros(dimensiones)** : Crea y devuelve una referencia a un array con las dimensiones especificadas en la tupla dimensiones cuyos elementos son todos ceros.\n",
    "\n",
    "**np.ones(dimensiones)** : Crea y devuelve una referencia a un array con las dimensiones especificadas en la tupla dimensiones cuyos elementos son todos unos.\n",
    "\n",
    "**np.full(dimensiones, valor)** : Crea y devuelve una referencia a un array con las dimensiones especificadas en la tupla dimensiones cuyos elementos son todos valor.\n",
    "\n",
    "**np.identity(n)** : Crea y devuelve una referencia a la matriz identidad de dimensión n.\n",
    "\n",
    "**np.arange(inicio, fin, salto)** : Crea y devuelve una referencia a un array de una dimensión cuyos elementos son la secuencia desde inicio hasta fin tomando valores cada salto.\n",
    "\n",
    "**np.linspace(inicio, fin, n)** : Crea y devuelve una referencia a un array de una dimensión cuyos elementos son la secuencia de n valores equidistantes desde inicio hasta fin.\n",
    "\n",
    "**np.random.randn(dimensiones)** : Crea y devuelve una referencia a un array con las dimensiones especificadas en la tupla dimensiones cuyos elementos son aleatorios."
   ]
  },
  {
   "cell_type": "markdown",
   "id": "a6c28af4",
   "metadata": {},
   "source": [
    "### Indexacion\n",
    "\n",
    "##### Introducción: Acceso a los elementos de un array\n",
    "\n",
    "Al igual que para listas, **los índices de cada dimensión comienzan en 0**.\n",
    "\n",
    "También es posible obtener **subarrays** con el operador dos puntos : indicando el índice inicial y el siguiente al final para cada dimensión, de nuevo separados por comas."
   ]
  },
  {
   "cell_type": "code",
   "execution_count": null,
   "id": "c384a738",
   "metadata": {},
   "outputs": [],
   "source": [
    "array_3"
   ]
  },
  {
   "cell_type": "code",
   "execution_count": null,
   "id": "4d91e01f",
   "metadata": {},
   "outputs": [],
   "source": [
    "array_3.shape"
   ]
  },
  {
   "cell_type": "code",
   "execution_count": null,
   "id": "f6e2b9ed",
   "metadata": {},
   "outputs": [],
   "source": [
    "array_3[0] # bloque 1"
   ]
  },
  {
   "cell_type": "code",
   "execution_count": null,
   "id": "ca33081c",
   "metadata": {},
   "outputs": [],
   "source": [
    "array_3[0,1]  # bloque 1 segunda lista"
   ]
  },
  {
   "cell_type": "code",
   "execution_count": null,
   "id": "cf3a25b0",
   "metadata": {},
   "outputs": [],
   "source": [
    "array_3[0,1,2] ## bloque 1, segunda lista, tercer elemento"
   ]
  },
  {
   "cell_type": "code",
   "execution_count": null,
   "id": "75a808ad",
   "metadata": {},
   "outputs": [],
   "source": [
    "# otra forma de acceder\n",
    "array_3[0][1][2]"
   ]
  },
  {
   "cell_type": "code",
   "execution_count": null,
   "id": "ab4664ed",
   "metadata": {},
   "outputs": [],
   "source": [
    "## subarray\n",
    "print(array_3[:, 0:1])"
   ]
  },
  {
   "cell_type": "markdown",
   "id": "c0337112",
   "metadata": {},
   "source": [
    "**Una diferencia importante respecto a las listas en Python, es que\n",
    "la seleccion de elementos es una vista del array original. Es decir,\n",
    "el subconjunto no es copiado, por lo que cualquier modificacion\n",
    "afecta al array original.**\n",
    "\n",
    "*Esta forma de trabajar es debido a que NumPy esta ideado para tratar conjuntos de datos de gran volumen. En caso de que queramos copiar una seleccion, podemos usar el metodo `copy()`.* \n",
    "\n",
    "\n",
    "- Otro tipo de indexacion que es muy util es la indexacion por medio\n",
    "de booleanos. Veamos un ejemplo:\n",
    "\n",
    "**a[condicion]** : Devuelve una lista con los elementos del array a que cumplen la condición condicion.\n"
   ]
  },
  {
   "cell_type": "code",
   "execution_count": null,
   "id": "22624ae0",
   "metadata": {},
   "outputs": [],
   "source": [
    "names = np.array([\"Pepe\", \"Jose\", \"Maria\", \"Pepe\", \"Maria\", \"Jose\", \"Jose\"])\n",
    "names"
   ]
  },
  {
   "cell_type": "code",
   "execution_count": null,
   "id": "6d4845ec",
   "metadata": {},
   "outputs": [],
   "source": [
    "data = np.random.randn(7, 4)\n",
    "data"
   ]
  },
  {
   "cell_type": "code",
   "execution_count": null,
   "id": "1775dbd1",
   "metadata": {},
   "outputs": [],
   "source": [
    "data + 1"
   ]
  },
  {
   "cell_type": "code",
   "execution_count": null,
   "id": "ebd5fd6b",
   "metadata": {},
   "outputs": [],
   "source": [
    "lista = [\"Pepe\", \"Jose\", \"Maria\", \"Pepe\", \"Maria\", \"Jose\", \"Jose\"];lista"
   ]
  },
  {
   "cell_type": "code",
   "execution_count": null,
   "id": "0badc1f8",
   "metadata": {},
   "outputs": [],
   "source": [
    "lista == 'Pepe'"
   ]
  },
  {
   "cell_type": "code",
   "execution_count": null,
   "id": "df08a1cf",
   "metadata": {},
   "outputs": [],
   "source": [
    "filtro = names == 'Pepe'"
   ]
  },
  {
   "cell_type": "code",
   "execution_count": null,
   "id": "69e21eb4",
   "metadata": {},
   "outputs": [],
   "source": [
    "filtro"
   ]
  },
  {
   "cell_type": "code",
   "execution_count": null,
   "id": "131495f3",
   "metadata": {},
   "outputs": [],
   "source": [
    "data[filtro] = data[filtro] + 1"
   ]
  },
  {
   "cell_type": "code",
   "execution_count": null,
   "id": "7c92d82d",
   "metadata": {},
   "outputs": [],
   "source": [
    "data"
   ]
  },
  {
   "cell_type": "markdown",
   "id": "b11369b9",
   "metadata": {},
   "source": [
    "Como vemos, podemos filtrar los resultados dependiendo de si se\n",
    "cumple o no la condicion que queramos. Una condicion\n",
    "indispensable es que el array de booleanos debe tener el mismo\n",
    "tamaño que el array de datos.\n",
    "\n",
    "Ademas, podemos unir nuestro filtrado con booleanos con el otro\n",
    "tipo de indexacion visto previamente"
   ]
  },
  {
   "cell_type": "code",
   "execution_count": null,
   "id": "56d8686e",
   "metadata": {},
   "outputs": [],
   "source": [
    "data"
   ]
  },
  {
   "cell_type": "code",
   "execution_count": null,
   "id": "7c5ee984",
   "metadata": {},
   "outputs": [],
   "source": [
    "filtro2 = data > 0"
   ]
  },
  {
   "cell_type": "code",
   "execution_count": null,
   "id": "ae5fa0e3",
   "metadata": {},
   "outputs": [],
   "source": [
    "filtro2"
   ]
  },
  {
   "cell_type": "code",
   "execution_count": null,
   "id": "c7ae591f",
   "metadata": {},
   "outputs": [],
   "source": [
    "data[filtro2]"
   ]
  },
  {
   "cell_type": "code",
   "execution_count": null,
   "id": "b1f38cdd",
   "metadata": {},
   "outputs": [],
   "source": []
  },
  {
   "cell_type": "code",
   "execution_count": null,
   "id": "18d352fe",
   "metadata": {},
   "outputs": [],
   "source": [
    "filtro3 = (names == \"Bob\") | (names == \"Will\")\n",
    "filtro3"
   ]
  },
  {
   "cell_type": "code",
   "execution_count": null,
   "id": "cb0bda85",
   "metadata": {},
   "outputs": [],
   "source": [
    "data"
   ]
  },
  {
   "cell_type": "code",
   "execution_count": null,
   "id": "9706a46f",
   "metadata": {},
   "outputs": [],
   "source": [
    "data[filtro3]"
   ]
  },
  {
   "cell_type": "code",
   "execution_count": null,
   "id": "e477aa0a",
   "metadata": {},
   "outputs": [],
   "source": [
    "data[names != \"Pepe\"] = 7\n",
    "data"
   ]
  },
  {
   "cell_type": "markdown",
   "id": "17a1892d",
   "metadata": {},
   "source": [
    "### Slicing arrays\n",
    "\n",
    "Tomar elementos desde un índice dado a otro índice dado.\n",
    "\n",
    "**a[start:stop]** \n",
    "\n",
    "**a[start:]**    \n",
    "\n",
    "**a[:stop]**     \n",
    "\n",
    "**a[:]**   copia el array entero"
   ]
  },
  {
   "cell_type": "code",
   "execution_count": null,
   "id": "26681da6",
   "metadata": {},
   "outputs": [],
   "source": [
    "array_3"
   ]
  },
  {
   "cell_type": "code",
   "execution_count": null,
   "id": "b1dd8982",
   "metadata": {},
   "outputs": [],
   "source": [
    "array_3[0,1,0:3] ## del bloque 1, de la lista 2, los 3 primeros elementos"
   ]
  },
  {
   "cell_type": "code",
   "execution_count": null,
   "id": "7978902c",
   "metadata": {},
   "outputs": [],
   "source": [
    "array_1 = np.array([1, 2, 3, 5, 7, 11, 13, 17])\n",
    "print(array_1[0:3]) ## los 3 primeros elementos de este vector"
   ]
  },
  {
   "cell_type": "markdown",
   "id": "22fe8adb",
   "metadata": {},
   "source": [
    "### Operaciones matemáticas con arrays\n",
    "\n",
    "Existen dos formas de realizar operaciones matemáticas con arrays: **a nivel de elemento y a nivel de array**.\n",
    "\n",
    "Las operaciones a nivel de elemento operan los elementos que ocupan la misma posición en dos arrays. Se necesitan, por tanto, dos arrays con las mismas dimensiones y el resultado es una array de la misma dimensión.\n",
    "\n",
    "Los operadores mamemáticos +, -, *, /, %, ** se utilizan para la realizar suma, resta, producto, cociente, resto y potencia a nivel de elemento."
   ]
  },
  {
   "cell_type": "code",
   "execution_count": null,
   "id": "90f3f2c4",
   "metadata": {},
   "outputs": [],
   "source": [
    "a = np.array([[1, 2, 3], [4, 5, 6]])\n",
    "b = np.array([[1, 1, 1], [2, 2, 2]])"
   ]
  },
  {
   "cell_type": "code",
   "execution_count": null,
   "id": "67df1e7a",
   "metadata": {},
   "outputs": [],
   "source": [
    "a"
   ]
  },
  {
   "cell_type": "code",
   "execution_count": null,
   "id": "7ecc17c0",
   "metadata": {},
   "outputs": [],
   "source": [
    "a*2"
   ]
  },
  {
   "cell_type": "code",
   "execution_count": null,
   "id": "323bb68b",
   "metadata": {},
   "outputs": [],
   "source": [
    "b"
   ]
  },
  {
   "cell_type": "code",
   "execution_count": null,
   "id": "37280860",
   "metadata": {},
   "outputs": [],
   "source": [
    "b+5"
   ]
  },
  {
   "cell_type": "code",
   "execution_count": null,
   "id": "55dba6c4",
   "metadata": {},
   "outputs": [],
   "source": [
    "print(a + b)"
   ]
  },
  {
   "cell_type": "code",
   "execution_count": null,
   "id": "61041d1e",
   "metadata": {},
   "outputs": [],
   "source": [
    "print(a / b)"
   ]
  },
  {
   "cell_type": "code",
   "execution_count": null,
   "id": "6021c59c",
   "metadata": {},
   "outputs": [],
   "source": [
    "print(a ** 2)"
   ]
  },
  {
   "cell_type": "markdown",
   "id": "6aa44a09",
   "metadata": {},
   "source": [
    "### Operaciones matemáticas a nivel de array\n",
    "\n",
    "Los arrays son importantes porque permiten expresar operaciones\n",
    "sobre muchos elementos sin la necesidad de escribir bucles. Esto es\n",
    "lo que se conoce como **vectorización.**\n",
    "\n",
    "Para realizar el producto matricial se utiliza el método\n",
    "\n",
    "**a.dot(b)** : Devuelve el array resultado del producto matricial de los arrays a y b siempre y cuando sus dimensiones sean compatibles.\n",
    "\n",
    "Y para trasponer una matriz se utiliza el método\n",
    "\n",
    "**a.T** : Devuelve el array resultado de trasponer el array a."
   ]
  },
  {
   "cell_type": "code",
   "execution_count": null,
   "id": "20c19d61",
   "metadata": {},
   "outputs": [],
   "source": [
    "a = np.array([[1, 2, 3], [4, 5, 6]])\n",
    "b = np.array([[1, 1], [2, 2], [3, 3]])"
   ]
  },
  {
   "cell_type": "code",
   "execution_count": null,
   "id": "38f965cf",
   "metadata": {},
   "outputs": [],
   "source": [
    "a"
   ]
  },
  {
   "cell_type": "code",
   "execution_count": null,
   "id": "65629e69",
   "metadata": {},
   "outputs": [],
   "source": [
    "b"
   ]
  },
  {
   "cell_type": "code",
   "execution_count": null,
   "id": "3ff1b89d",
   "metadata": {},
   "outputs": [],
   "source": [
    "print(a.dot(b))"
   ]
  },
  {
   "cell_type": "code",
   "execution_count": null,
   "id": "404f0f75",
   "metadata": {},
   "outputs": [],
   "source": [
    "a.T"
   ]
  },
  {
   "cell_type": "code",
   "execution_count": null,
   "id": "4a5d161f",
   "metadata": {},
   "outputs": [],
   "source": [
    "print(a.T.shape)"
   ]
  },
  {
   "cell_type": "markdown",
   "id": "e478bbe4",
   "metadata": {},
   "source": [
    "### Funciones universales de comparación"
   ]
  },
  {
   "cell_type": "code",
   "execution_count": null,
   "id": "23db605c",
   "metadata": {},
   "outputs": [],
   "source": [
    "array_a=np.array([[1, 2, 3],[1, 4, 9]])\n",
    "array_b=np.array([[1, 3, 2],[2, 2, 2]])\n",
    "\n",
    "array_a > array_b"
   ]
  },
  {
   "cell_type": "code",
   "execution_count": null,
   "id": "0f07442a",
   "metadata": {},
   "outputs": [],
   "source": [
    "array_a=np.array([[1, 2, 3],[1, 4, 9]])\n",
    "array_b=np.array([[1, 3, 2],[2, 2, 2]])\n",
    "\n",
    "print(np.greater(array_a,array_b))"
   ]
  },
  {
   "cell_type": "markdown",
   "id": "19608a5d",
   "metadata": {},
   "source": [
    "### Agregaciones"
   ]
  },
  {
   "cell_type": "code",
   "execution_count": null,
   "id": "e0b64646",
   "metadata": {},
   "outputs": [],
   "source": [
    "array_a"
   ]
  },
  {
   "cell_type": "code",
   "execution_count": null,
   "id": "de741fe3",
   "metadata": {},
   "outputs": [],
   "source": [
    "array_b"
   ]
  },
  {
   "cell_type": "code",
   "execution_count": null,
   "id": "16c21b30",
   "metadata": {},
   "outputs": [],
   "source": [
    "np.add(array_a, array_b) ## suma los dos arrays"
   ]
  },
  {
   "cell_type": "code",
   "execution_count": null,
   "id": "ab18bff2",
   "metadata": {},
   "outputs": [],
   "source": [
    "array_a"
   ]
  },
  {
   "cell_type": "code",
   "execution_count": null,
   "id": "d03ca347",
   "metadata": {},
   "outputs": [],
   "source": [
    "array_a_reduced=np.add.reduce(array_a)\n",
    "array_a_reduced"
   ]
  },
  {
   "cell_type": "code",
   "execution_count": null,
   "id": "930c4d94",
   "metadata": {},
   "outputs": [],
   "source": [
    "np.add.reduce(array_a_reduced)"
   ]
  },
  {
   "cell_type": "code",
   "execution_count": null,
   "id": "b4a38862",
   "metadata": {},
   "outputs": [],
   "source": [
    "array_a.sum() # es lo mismo que lo anterior"
   ]
  },
  {
   "cell_type": "markdown",
   "id": "589df6b2",
   "metadata": {},
   "source": [
    "### Acumulados\n",
    "\n",
    "Acumula el resultado de aplicar el operador a todos los elementos."
   ]
  },
  {
   "cell_type": "code",
   "execution_count": null,
   "id": "2ddc90d1",
   "metadata": {},
   "outputs": [],
   "source": [
    "array_a"
   ]
  },
  {
   "cell_type": "code",
   "execution_count": null,
   "id": "6ebe4088",
   "metadata": {},
   "outputs": [],
   "source": [
    "np.add.accumulate(array_a)"
   ]
  },
  {
   "cell_type": "code",
   "execution_count": null,
   "id": "d1b38d76",
   "metadata": {},
   "outputs": [],
   "source": [
    "np.add.accumulate(array_a_reduced)"
   ]
  },
  {
   "cell_type": "markdown",
   "id": "4ce365ee",
   "metadata": {},
   "source": [
    "### Operaciones con arrays"
   ]
  },
  {
   "cell_type": "code",
   "execution_count": null,
   "id": "58587bc6",
   "metadata": {},
   "outputs": [],
   "source": [
    "array_a"
   ]
  },
  {
   "cell_type": "code",
   "execution_count": null,
   "id": "dfdaa718",
   "metadata": {},
   "outputs": [],
   "source": [
    "array_a.sum()"
   ]
  },
  {
   "cell_type": "code",
   "execution_count": null,
   "id": "43489e4b",
   "metadata": {},
   "outputs": [],
   "source": [
    "array_a.sum(axis=0) "
   ]
  },
  {
   "cell_type": "code",
   "execution_count": null,
   "id": "f75ed41c",
   "metadata": {},
   "outputs": [],
   "source": [
    "array_a.sum(axis=1)"
   ]
  },
  {
   "cell_type": "markdown",
   "id": "e3c9a715",
   "metadata": {},
   "source": [
    "### Ordenación\n"
   ]
  },
  {
   "cell_type": "code",
   "execution_count": null,
   "id": "a56eeda7",
   "metadata": {},
   "outputs": [],
   "source": [
    "array_1d=np.random.rand(10) # definimos array\n",
    "array_1d"
   ]
  },
  {
   "cell_type": "code",
   "execution_count": null,
   "id": "96c9d256",
   "metadata": {},
   "outputs": [],
   "source": [
    "print(np.sort(array_1d)) # ordenamos"
   ]
  },
  {
   "cell_type": "code",
   "execution_count": null,
   "id": "96b0c7dd",
   "metadata": {},
   "outputs": [],
   "source": [
    "array_2d=np.random.rand(3,4) # definimos array\n",
    "array_2d"
   ]
  },
  {
   "cell_type": "code",
   "execution_count": null,
   "id": "38fc1cc1",
   "metadata": {},
   "outputs": [],
   "source": [
    "print(np.sort(array_2d)) # ordenamos"
   ]
  },
  {
   "cell_type": "code",
   "execution_count": null,
   "id": "60c41958",
   "metadata": {},
   "outputs": [],
   "source": [
    "print(np.sort(array_2d, None)) # ordenamos"
   ]
  },
  {
   "cell_type": "code",
   "execution_count": null,
   "id": "4848cff8",
   "metadata": {},
   "outputs": [],
   "source": [
    "print(np.sort(array_2d,axis=0)) # ordenamos"
   ]
  },
  {
   "cell_type": "code",
   "execution_count": null,
   "id": "bdd4e45b",
   "metadata": {},
   "outputs": [],
   "source": [
    "print(np.sort(array_2d,axis=1)) # ordenamos"
   ]
  },
  {
   "cell_type": "code",
   "execution_count": null,
   "id": "9ea108e4",
   "metadata": {},
   "outputs": [],
   "source": [
    "array_2d.sort()"
   ]
  },
  {
   "cell_type": "markdown",
   "id": "150482df",
   "metadata": {},
   "source": [
    "### Localizar máximo y mínimo dentro de un array"
   ]
  },
  {
   "cell_type": "code",
   "execution_count": null,
   "id": "143fe6f3",
   "metadata": {},
   "outputs": [],
   "source": [
    "array = np.random.rand(2,5) # definimos array aleatorio\n",
    "array"
   ]
  },
  {
   "cell_type": "code",
   "execution_count": null,
   "id": "5eb7e93c",
   "metadata": {},
   "outputs": [],
   "source": [
    "np.max(array)"
   ]
  },
  {
   "cell_type": "code",
   "execution_count": null,
   "id": "78ba687a",
   "metadata": {},
   "outputs": [],
   "source": [
    "np.argmax(array) # posición del array máximo"
   ]
  },
  {
   "cell_type": "code",
   "execution_count": null,
   "id": "3fabbeb3",
   "metadata": {},
   "outputs": [],
   "source": [
    "kk = np.random.rand(1,10)"
   ]
  },
  {
   "cell_type": "code",
   "execution_count": null,
   "id": "8d39ab7b",
   "metadata": {},
   "outputs": [],
   "source": [
    "kk"
   ]
  },
  {
   "cell_type": "code",
   "execution_count": null,
   "id": "9d3848f7",
   "metadata": {},
   "outputs": [],
   "source": [
    "kk_ord = np.sort(kk,axis=1)"
   ]
  },
  {
   "cell_type": "code",
   "execution_count": null,
   "id": "01f0c84f",
   "metadata": {},
   "outputs": [],
   "source": [
    "kk_ord"
   ]
  },
  {
   "cell_type": "code",
   "execution_count": null,
   "id": "d54f041b",
   "metadata": {},
   "outputs": [],
   "source": [
    "kk_ord[::-1]"
   ]
  },
  {
   "cell_type": "code",
   "execution_count": null,
   "id": "6d172db3",
   "metadata": {},
   "outputs": [],
   "source": [
    "np.argmax(array)"
   ]
  },
  {
   "cell_type": "code",
   "execution_count": null,
   "id": "6901b8d4",
   "metadata": {},
   "outputs": [],
   "source": [
    "array.reshape(10,-1)[np.argmax(array)] ## seleccionamos el elemento maximo a través de la posición"
   ]
  },
  {
   "cell_type": "code",
   "execution_count": null,
   "id": "ebd6caf8",
   "metadata": {},
   "outputs": [],
   "source": [
    "np.argmax(array, axis=0)"
   ]
  },
  {
   "cell_type": "code",
   "execution_count": null,
   "id": "5eb58648",
   "metadata": {},
   "outputs": [],
   "source": [
    "np.argmax(array, axis=1)"
   ]
  },
  {
   "cell_type": "markdown",
   "id": "cf5f6b70",
   "metadata": {},
   "source": [
    "## CONCLUSIONES\n",
    "\n",
    "- NumPy es una librería a bajo nivel para el tratamiento óptimo\n",
    "de matrices\n",
    "\n",
    "- Servirá como la base en que se sustenta Pandas para realizar\n",
    "sus tareas\n",
    "\n",
    "- NumPy proporciona muchos métodos y opciones para un\n",
    "manejo óptimo de datos\n",
    "\n",
    "- De entre sus características podemos destacar la facilidad para\n",
    "indexar elementos, para definir tipos de datos y para aplicar\n",
    "operaciones sobre todos los elementos de un array de datos.\n",
    "\n",
    "- Además de Pandas, NumPy es la base de muchas otras\n",
    "librerías actuales enfocadas en el análisis y el modelado de\n",
    "datos."
   ]
  },
  {
   "cell_type": "code",
   "execution_count": null,
   "id": "8bd3ce3f",
   "metadata": {},
   "outputs": [],
   "source": []
  },
  {
   "cell_type": "code",
   "execution_count": null,
   "id": "56545719",
   "metadata": {},
   "outputs": [],
   "source": []
  },
  {
   "cell_type": "code",
   "execution_count": null,
   "id": "cd825f23",
   "metadata": {},
   "outputs": [],
   "source": []
  },
  {
   "cell_type": "code",
   "execution_count": null,
   "id": "4c0a837f",
   "metadata": {},
   "outputs": [],
   "source": []
  }
 ],
 "metadata": {
  "kernelspec": {
   "display_name": "Python 3 (ipykernel)",
   "language": "python",
   "name": "python3"
  },
  "language_info": {
   "codemirror_mode": {
    "name": "ipython",
    "version": 3
   },
   "file_extension": ".py",
   "mimetype": "text/x-python",
   "name": "python",
   "nbconvert_exporter": "python",
   "pygments_lexer": "ipython3",
   "version": "3.11.5"
  }
 },
 "nbformat": 4,
 "nbformat_minor": 5
}
