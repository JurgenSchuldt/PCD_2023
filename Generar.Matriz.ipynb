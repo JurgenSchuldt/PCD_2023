{
 "cells": [
  {
   "cell_type": "markdown",
   "id": "5a7a8d42-3ae3-423d-9413-d81d67a9d5c1",
   "metadata": {},
   "source": [
    "## Generar una Matriz 300x300"
   ]
  },
  {
   "cell_type": "code",
   "execution_count": null,
   "id": "e841b92e-63da-43a6-81ee-4a6c1034fbfc",
   "metadata": {},
   "outputs": [],
   "source": [
    "for i in range (300):\n",
    "    for j in range(300):\n",
    "        a = [i, j]"
   ]
  },
  {
   "cell_type": "code",
   "execution_count": null,
   "id": "d50ec2aa-d2d8-4491-8749-e7690fc51c7e",
   "metadata": {},
   "outputs": [],
   "source": [
    "import random as rd"
   ]
  },
  {
   "cell_type": "code",
   "execution_count": null,
   "id": "bfad95aa-9892-4a3a-9eca-f4b4b125d844",
   "metadata": {},
   "outputs": [],
   "source": [
    "A=[[rd.randint(0,222) for i in range(fil_A)] for j in range (col_A)]"
   ]
  },
  {
   "cell_type": "code",
   "execution_count": null,
   "id": "f12ba43c-0cd5-4525-a4aa-356613afbd39",
   "metadata": {},
   "outputs": [],
   "source": [
    "print(A)"
   ]
  },
  {
   "cell_type": "code",
   "execution_count": null,
   "id": "1aed65b7-09cd-4f29-9ef2-917b727bcb48",
   "metadata": {},
   "outputs": [],
   "source": [
    "B=[[rd.randint(0,222) for i in range(fil_B)] for j in range(col_B)]"
   ]
  },
  {
   "cell_type": "code",
   "execution_count": null,
   "id": "fc5fc82e-2323-414b-96eb-b152260e75c6",
   "metadata": {},
   "outputs": [],
   "source": [
    "print(B)"
   ]
  },
  {
   "cell_type": "code",
   "execution_count": null,
   "id": "24cd5aba-fb5c-4140-afe9-f7a63e8f6f72",
   "metadata": {},
   "outputs": [],
   "source": [
    "len(A)"
   ]
  },
  {
   "cell_type": "code",
   "execution_count": null,
   "id": "c0d2b6b2-db84-4522-acbd-b43ac6b7fda3",
   "metadata": {},
   "outputs": [],
   "source": [
    "len(B)"
   ]
  },
  {
   "cell_type": "code",
   "execution_count": null,
   "id": "e810d75f-7ecb-4f9d-982f-44880b7f5737",
   "metadata": {},
   "outputs": [],
   "source": [
    "if  len(A[0])==len(B):\n",
    "    print('La matrix A es compatible con la matrix B')\n",
    "else:\n",
    "    print('Tarugo, para multiplicar deben ser compatibles,vuelve a generar')"
   ]
  },
  {
   "cell_type": "code",
   "execution_count": null,
   "id": "25a324ce-8ef1-405f-a975-c0a9c7f90d1e",
   "metadata": {},
   "outputs": [],
   "source": [
    "fil_A=int(input('Ingrese las filas de A:'))"
   ]
  },
  {
   "cell_type": "code",
   "execution_count": null,
   "id": "8b14b6c1-95eb-4458-8f41-cb45e1e39657",
   "metadata": {},
   "outputs": [],
   "source": [
    "col_A=int(input('Ingrese las columnas de A:'))"
   ]
  },
  {
   "cell_type": "code",
   "execution_count": null,
   "id": "4b8deee9-b070-4556-ae78-aae18a9dcf44",
   "metadata": {},
   "outputs": [],
   "source": [
    "print('las dimensiones introducidas son A:',fil_A,col_A)"
   ]
  },
  {
   "cell_type": "code",
   "execution_count": null,
   "id": "cf0dc866-2f04-482d-8919-52b82c179f3b",
   "metadata": {},
   "outputs": [],
   "source": [
    "fil_B=int(input('Ingrese las filas de B:')) "
   ]
  },
  {
   "cell_type": "code",
   "execution_count": null,
   "id": "7d832f92-6998-4ac1-ae0e-ab35ba18dec1",
   "metadata": {},
   "outputs": [],
   "source": [
    "col_B=int(input('Ingrese las columnas de B:')) "
   ]
  },
  {
   "cell_type": "code",
   "execution_count": 125,
   "id": "6e4881c9-5138-4119-b51b-c315bd9729dc",
   "metadata": {},
   "outputs": [
    {
     "name": "stdout",
     "output_type": "stream",
     "text": [
      "las dimensiones introducidas son A: 300 300\n"
     ]
    }
   ],
   "source": [
    "print('las dimensiones introducidas son A:',fil_B,col_B)"
   ]
  },
  {
   "cell_type": "code",
   "execution_count": null,
   "id": "3dcb313a-1a3f-4ea9-b1cc-f98190f063f8",
   "metadata": {},
   "outputs": [],
   "source": [
    "def mult_seq(A,B):\n",
    "    print(A,B)"
   ]
  },
  {
   "cell_type": "code",
   "execution_count": null,
   "id": "b148b058-203b-418b-ad89-5c4d8730b958",
   "metadata": {},
   "outputs": [],
   "source": [
    "mult_seq(A,B)"
   ]
  }
 ],
 "metadata": {
  "kernelspec": {
   "display_name": "Python 3 (ipykernel)",
   "language": "python",
   "name": "python3"
  },
  "language_info": {
   "codemirror_mode": {
    "name": "ipython",
    "version": 3
   },
   "file_extension": ".py",
   "mimetype": "text/x-python",
   "name": "python",
   "nbconvert_exporter": "python",
   "pygments_lexer": "ipython3",
   "version": "3.11.5"
  }
 },
 "nbformat": 4,
 "nbformat_minor": 5
}
