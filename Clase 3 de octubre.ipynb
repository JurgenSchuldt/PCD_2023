{
 "cells": [
  {
   "cell_type": "markdown",
   "id": "cd9e1739-bfee-45ff-a646-b2c58eec6950",
   "metadata": {},
   "source": [
    "## Clase 3 de Octubre\n",
    "### Threads/Hilos."
   ]
  },
  {
   "cell_type": "markdown",
   "id": "dbc88c79-6764-4580-9349-53e616ddd86c",
   "metadata": {},
   "source": [
    "#### Import libs, manage threads/hilos"
   ]
  },
  {
   "cell_type": "code",
   "execution_count": null,
   "id": "2e7c95c9-82ba-4846-bbf0-4cb116550a64",
   "metadata": {},
   "outputs": [],
   "source": [
    "import threading as th"
   ]
  },
  {
   "cell_type": "code",
   "execution_count": null,
   "id": "7ee6fbc7-dbac-452b-8b3a-dcd1cceec2cf",
   "metadata": {},
   "outputs": [],
   "source": [
    "th.active_count()"
   ]
  },
  {
   "cell_type": "code",
   "execution_count": null,
   "id": "671934cf-f7cb-495d-8a20-52f369cf99ca",
   "metadata": {},
   "outputs": [],
   "source": [
    "th.current_thread().getName"
   ]
  },
  {
   "cell_type": "markdown",
   "id": "43fbe146-7a3e-4ac1-85dc-d736391f1ecf",
   "metadata": {},
   "source": [
    "Es el Hilo padre, si esse se muere ueren todos los demas.\r\n",
    "\r\n",
    "El hilo demonio hace lo que quiere. \r\n",
    "\r\n",
    "El hilo HeartBeat hace que si algo no responde avisa a los demas hilos para que haga algo. \r\n",
    "\r\n",
    "El hilo HistorySaving thread se encarga de la grabacion del guardado de lo que esta haciendo."
   ]
  },
  {
   "cell_type": "code",
   "execution_count": null,
   "id": "caec07e4-95b9-4670-ae46-c40dc020730b",
   "metadata": {},
   "outputs": [],
   "source": [
    "th.enumerate()"
   ]
  },
  {
   "cell_type": "markdown",
   "id": "177b32e9-8cae-47e5-9968-5b698436a9fe",
   "metadata": {},
   "source": [
    "#### Quien es el padre de esos hilos?"
   ]
  },
  {
   "cell_type": "code",
   "execution_count": null,
   "id": "f349baad-dcdd-4841-95d9-7ae70c4bd03b",
   "metadata": {},
   "outputs": [],
   "source": [
    "import os"
   ]
  },
  {
   "cell_type": "code",
   "execution_count": null,
   "id": "a6221424-f8be-4620-b0ab-f4e64cf3e11f",
   "metadata": {},
   "outputs": [],
   "source": [
    "os.getpid()"
   ]
  },
  {
   "cell_type": "code",
   "execution_count": null,
   "id": "eeccf06e-22b6-4ab2-9a0a-b0336c84f03a",
   "metadata": {},
   "outputs": [],
   "source": [
    "from IPython import display as dp"
   ]
  },
  {
   "cell_type": "markdown",
   "id": "1dd370fb-6a3f-48a0-96d3-3fd7e3fb6c07",
   "metadata": {},
   "source": [
    "El padre de los hilos es ?"
   ]
  },
  {
   "cell_type": "code",
   "execution_count": null,
   "id": "b0ea91d5-2822-4492-8bb3-3ea7aa3f6351",
   "metadata": {},
   "outputs": [],
   "source": [
    "dp.Image('5_oct_2023.png')"
   ]
  },
  {
   "cell_type": "markdown",
   "id": "b8052681-3114-4b00-a6c0-03c685f682df",
   "metadata": {},
   "source": [
    "#### Hilos vs Procesos"
   ]
  },
  {
   "cell_type": "markdown",
   "id": "9c2f1b58-5414-4243-b87e-cbd0116c2ee1",
   "metadata": {},
   "source": [
    "##### Ejemplo de Hilos"
   ]
  },
  {
   "cell_type": "code",
   "execution_count": 3,
   "id": "e4762384-634a-4336-9c7e-32a2e889dd71",
   "metadata": {},
   "outputs": [],
   "source": [
    "def do_nothing():\n",
    "    while True:\n",
    "        pass\n",
    "        "
   ]
  },
  {
   "cell_type": "code",
   "execution_count": null,
   "id": "5e149204-9136-48df-9a69-2c2a99583ac9",
   "metadata": {},
   "outputs": [],
   "source": [
    "for i in range(20):\n",
    "    th.Thread(target=do_nothing).start()\n",
    "\n",
    "th.enumerate()\n",
    "    "
   ]
  },
  {
   "cell_type": "markdown",
   "id": "2b740b75-6af7-40d2-bd72-d7021ece1468",
   "metadata": {},
   "source": [
    "##### Ejemplo de Procesos"
   ]
  },
  {
   "cell_type": "code",
   "execution_count": null,
   "id": "31f00b0c-00ec-4de3-a602-44a0c0153668",
   "metadata": {},
   "outputs": [],
   "source": [
    "for i in range(10):\n",
    "    mp.Process(target = do_nothing()).start"
   ]
  },
  {
   "cell_type": "code",
   "execution_count": null,
   "id": "0d3fc778-9d46-4b52-85c1-d3e12d31e145",
   "metadata": {},
   "outputs": [],
   "source": [
    "mp.enumerate()"
   ]
  },
  {
   "cell_type": "markdown",
   "id": "df0021f0-e01c-4f57-8d3c-fc5998b631fe",
   "metadata": {},
   "source": [
    "#### Cuantos hilos puedo instanciar? (pregunta de examen)"
   ]
  },
  {
   "cell_type": "code",
   "execution_count": null,
   "id": "75dbacea-a6af-4854-9abb-c79070985708",
   "metadata": {},
   "outputs": [],
   "source": []
  },
  {
   "cell_type": "markdown",
   "id": "fc4d134c-487e-44ea-834e-078da7ac4e05",
   "metadata": {},
   "source": [
    "#### imports libs, manage process(cores), un hilo siempre depende de un proceso como si fuera su hijo"
   ]
  },
  {
   "cell_type": "code",
   "execution_count": 1,
   "id": "dd0608f1-44c4-4968-ba81-24542333d3f8",
   "metadata": {},
   "outputs": [],
   "source": [
    "import multiprocessing as mp # Manages cores"
   ]
  },
  {
   "cell_type": "code",
   "execution_count": 28,
   "id": "e5e2dd79-59ed-40ae-abe9-de9e6590c43b",
   "metadata": {},
   "outputs": [
    {
     "data": {
      "text/plain": [
       "16"
      ]
     },
     "execution_count": 28,
     "metadata": {},
     "output_type": "execute_result"
    }
   ],
   "source": [
    "mp.cpu_count()"
   ]
  },
  {
   "cell_type": "code",
   "execution_count": null,
   "id": "c5eaa510-a789-4804-be02-d73e6b43110e",
   "metadata": {},
   "outputs": [],
   "source": [
    "mp.current_process()"
   ]
  },
  {
   "cell_type": "markdown",
   "id": "727cba6a-2a48-4da5-a9bd-5167b4750664",
   "metadata": {},
   "source": [
    "#### Cual es mi interprete de Python?"
   ]
  },
  {
   "cell_type": "code",
   "execution_count": null,
   "id": "b8916ebe-3ba2-4a5f-b087-1ff00a2f12c8",
   "metadata": {},
   "outputs": [],
   "source": [
    "! python3 --version"
   ]
  },
  {
   "cell_type": "code",
   "execution_count": 21,
   "id": "80692258-825e-42c2-a729-1da155acaaaf",
   "metadata": {},
   "outputs": [],
   "source": [
    "import platform as pt"
   ]
  },
  {
   "cell_type": "code",
   "execution_count": 22,
   "id": "45f0e32a-2d4c-4782-a5ad-6caef356584b",
   "metadata": {},
   "outputs": [
    {
     "data": {
      "text/plain": [
       "'CPython'"
      ]
     },
     "execution_count": 22,
     "metadata": {},
     "output_type": "execute_result"
    }
   ],
   "source": [
    "pt.python_implementation()"
   ]
  },
  {
   "cell_type": "code",
   "execution_count": 23,
   "id": "f74615d5-7b3a-403c-bfc7-175a30e7a193",
   "metadata": {},
   "outputs": [
    {
     "data": {
      "text/plain": [
       "'MSC v.1936 64 bit (AMD64)'"
      ]
     },
     "execution_count": 23,
     "metadata": {},
     "output_type": "execute_result"
    }
   ],
   "source": [
    "pt.python_compiler()"
   ]
  },
  {
   "cell_type": "code",
   "execution_count": 24,
   "id": "d32d0db5-8224-43c3-993b-3142cc16b0ac",
   "metadata": {},
   "outputs": [
    {
     "data": {
      "text/plain": [
       "[[1, 2, 3, 4], [46, 7, 5]]"
      ]
     },
     "execution_count": 24,
     "metadata": {},
     "output_type": "execute_result"
    }
   ],
   "source": [
    "[[1,2,3,4],[46,7,5]]"
   ]
  },
  {
   "cell_type": "code",
   "execution_count": 1,
   "id": "7258d3ca-bdeb-45b4-bcc3-13fa4fe632a8",
   "metadata": {},
   "outputs": [
    {
     "name": "stderr",
     "output_type": "stream",
     "text": [
      "fatal: not a git repository (or any of the parent directories): .git\n"
     ]
    }
   ],
   "source": [
    "!git status "
   ]
  },
  {
   "cell_type": "code",
   "execution_count": null,
   "id": "86e3d3d9-dd3d-493a-b765-009ff4cf7f05",
   "metadata": {},
   "outputs": [],
   "source": []
  }
 ],
 "metadata": {
  "kernelspec": {
   "display_name": "Python 3 (ipykernel)",
   "language": "python",
   "name": "python3"
  },
  "language_info": {
   "codemirror_mode": {
    "name": "ipython",
    "version": 3
   },
   "file_extension": ".py",
   "mimetype": "text/x-python",
   "name": "python",
   "nbconvert_exporter": "python",
   "pygments_lexer": "ipython3",
   "version": "3.11.5"
  }
 },
 "nbformat": 4,
 "nbformat_minor": 5
}
