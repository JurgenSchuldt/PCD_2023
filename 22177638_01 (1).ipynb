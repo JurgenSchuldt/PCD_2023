{
 "cells": [
  {
   "cell_type": "markdown",
   "id": "0654bbe3-10be-4094-ab3b-9f480817b385",
   "metadata": {},
   "source": [
    "## Primera Clase PCD 14 de Septiembre "
   ]
  },
  {
   "cell_type": "markdown",
   "id": "07c74c52-1ec4-4b19-8b24-b2d3245b5517",
   "metadata": {},
   "source": [
    "1. Muestre que version de pip tienes?"
   ]
  },
  {
   "cell_type": "code",
   "execution_count": 1,
   "id": "eabd6ee8-7ba0-4501-b455-5db879b50e93",
   "metadata": {},
   "outputs": [
    {
     "name": "stdout",
     "output_type": "stream",
     "text": [
      "pip 23.2.1 from C:\\Program Files\\Python311\\Lib\\site-packages\\pip (python 3.11)\n",
      "\n"
     ]
    }
   ],
   "source": [
    "!pip --version"
   ]
  },
  {
   "cell_type": "markdown",
   "id": "00eedd0e-11ab-4313-84f7-7143ee39736e",
   "metadata": {},
   "source": [
    "### System Specs"
   ]
  },
  {
   "cell_type": "code",
   "execution_count": 2,
   "id": "ce87320f-8550-4354-abd2-fd02aefeb0ec",
   "metadata": {},
   "outputs": [],
   "source": [
    "import platform as pt"
   ]
  },
  {
   "cell_type": "code",
   "execution_count": 6,
   "id": "344a1aed-494f-4785-ac0c-f873cb128694",
   "metadata": {},
   "outputs": [
    {
     "data": {
      "text/plain": [
       "uname_result(system='Windows', node='Jurgen', release='10', version='10.0.22621', machine='AMD64')"
      ]
     },
     "execution_count": 6,
     "metadata": {},
     "output_type": "execute_result"
    }
   ],
   "source": [
    "pt.uname()"
   ]
  },
  {
   "cell_type": "code",
   "execution_count": 7,
   "id": "f8ec3ff1-487b-4f06-92d6-feeebc4702b2",
   "metadata": {},
   "outputs": [
    {
     "data": {
      "text/plain": [
       "'Windows-10-10.0.22621-SP0'"
      ]
     },
     "execution_count": 7,
     "metadata": {},
     "output_type": "execute_result"
    }
   ],
   "source": [
    "pt.platform()"
   ]
  },
  {
   "cell_type": "markdown",
   "id": "cf54ea82-cdde-486c-9e5b-edc5c26b8c34",
   "metadata": {},
   "source": [
    "### Cores logicos?"
   ]
  },
  {
   "cell_type": "code",
   "execution_count": 8,
   "id": "023ac13f-9a87-47db-8104-acb06f768cad",
   "metadata": {},
   "outputs": [],
   "source": [
    "import os"
   ]
  },
  {
   "cell_type": "code",
   "execution_count": 10,
   "id": "c9476a90-8aad-4a66-89ef-6c1e1978aca3",
   "metadata": {},
   "outputs": [
    {
     "data": {
      "text/plain": [
       "16"
      ]
     },
     "execution_count": 10,
     "metadata": {},
     "output_type": "execute_result"
    }
   ],
   "source": [
    "os.cpu_count()"
   ]
  },
  {
   "cell_type": "code",
   "execution_count": null,
   "id": "0c505dcd-8609-401f-b45e-e16ddde18d66",
   "metadata": {},
   "outputs": [],
   "source": []
  }
 ],
 "metadata": {
  "kernelspec": {
   "display_name": "Python 3 (ipykernel)",
   "language": "python",
   "name": "python3"
  },
  "language_info": {
   "codemirror_mode": {
    "name": "ipython",
    "version": 3
   },
   "file_extension": ".py",
   "mimetype": "text/x-python",
   "name": "python",
   "nbconvert_exporter": "python",
   "pygments_lexer": "ipython3",
   "version": "3.11.5"
  }
 },
 "nbformat": 4,
 "nbformat_minor": 5
}
